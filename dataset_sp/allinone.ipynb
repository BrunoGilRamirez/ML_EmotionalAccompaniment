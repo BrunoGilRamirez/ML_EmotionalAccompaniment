{
 "cells": [
  {
   "cell_type": "code",
   "execution_count": 1,
   "metadata": {},
   "outputs": [],
   "source": [
    "from datasets import load_dataset\n",
    "import pandas as pd\n"
   ]
  },
  {
   "attachments": {},
   "cell_type": "markdown",
   "metadata": {},
   "source": [
    "# Daily dialog Dataset"
   ]
  },
  {
   "cell_type": "code",
   "execution_count": 2,
   "metadata": {},
   "outputs": [
    {
     "name": "stderr",
     "output_type": "stream",
     "text": [
      "Found cached dataset daily_dialog (C:/Users/brusl/.cache/huggingface/datasets/daily_dialog/default/1.0.0/1d0a58c7f2a4dab5ed9d01dbde8e55e0058e589ab81fce5c2df929ea810eabcd)\n"
     ]
    },
    {
     "data": {
      "application/vnd.jupyter.widget-view+json": {
       "model_id": "addbd86dab7a429a8a470a6db51cea17",
       "version_major": 2,
       "version_minor": 0
      },
      "text/plain": [
       "  0%|          | 0/3 [00:00<?, ?it/s]"
      ]
     },
     "metadata": {},
     "output_type": "display_data"
    }
   ],
   "source": [
    "dataset = load_dataset(\"daily_dialog\")"
   ]
  },
  {
   "cell_type": "code",
   "execution_count": 3,
   "metadata": {},
   "outputs": [
    {
     "data": {
      "text/plain": [
       "Dataset({\n",
       "    features: ['dialog', 'act', 'emotion'],\n",
       "    num_rows: 11118\n",
       "})"
      ]
     },
     "execution_count": 3,
     "metadata": {},
     "output_type": "execute_result"
    }
   ],
   "source": [
    "dataset['train']"
   ]
  },
  {
   "cell_type": "code",
   "execution_count": 4,
   "metadata": {},
   "outputs": [],
   "source": [
    "train = pd.DataFrame(dataset[\"train\"])\n",
    "test = pd.DataFrame(dataset[\"test\"])\n",
    "validation = pd.DataFrame(dataset[\"validation\"])"
   ]
  },
  {
   "cell_type": "code",
   "execution_count": 5,
   "metadata": {},
   "outputs": [],
   "source": [
    "train.to_csv(\"C:/Users/brusl/Documents/1 Escuela/1 Universidad/SSocial/tesis/conjuntos/Dailydialog/Train_dailyDialog.csv\", index=False)\n",
    "#C:/Users/brusl/Documents/1 Escuela/1 Universidad/SSocial/tesis/conjuntos/Dailydialog/Test_dailyDialog.xlsx\n",
    "test.to_csv(\"C:/Users/brusl/Documents/1 Escuela/1 Universidad/SSocial/tesis/conjuntos/Dailydialog/Test_dailyDialog.csv\", index=False)\n",
    "validation.to_csv(\"C:/Users/brusl/Documents/1 Escuela/1 Universidad/SSocial/tesis/conjuntos/Dailydialog/Validation_dailyDialog.csv\", index=False)"
   ]
  },
  {
   "attachments": {},
   "cell_type": "markdown",
   "metadata": {},
   "source": [
    "# Tweet Eval Dataset"
   ]
  },
  {
   "cell_type": "code",
   "execution_count": 6,
   "metadata": {},
   "outputs": [
    {
     "name": "stderr",
     "output_type": "stream",
     "text": [
      "Found cached dataset tweet_eval (C:/Users/brusl/.cache/huggingface/datasets/tweet_eval/emotion/1.1.0/12aee5282b8784f3e95459466db4cdf45c6bf49719c25cdb0743d71ed0410343)\n"
     ]
    },
    {
     "data": {
      "application/vnd.jupyter.widget-view+json": {
       "model_id": "635f417922fb4de6b030a27c872b60c4",
       "version_major": 2,
       "version_minor": 0
      },
      "text/plain": [
       "  0%|          | 0/3 [00:00<?, ?it/s]"
      ]
     },
     "metadata": {},
     "output_type": "display_data"
    },
    {
     "name": "stderr",
     "output_type": "stream",
     "text": [
      "Found cached dataset tweet_eval (C:/Users/brusl/.cache/huggingface/datasets/tweet_eval/sentiment/1.1.0/12aee5282b8784f3e95459466db4cdf45c6bf49719c25cdb0743d71ed0410343)\n"
     ]
    },
    {
     "data": {
      "application/vnd.jupyter.widget-view+json": {
       "model_id": "083f44141daa497b83a88165348e656b",
       "version_major": 2,
       "version_minor": 0
      },
      "text/plain": [
       "  0%|          | 0/3 [00:00<?, ?it/s]"
      ]
     },
     "metadata": {},
     "output_type": "display_data"
    },
    {
     "name": "stderr",
     "output_type": "stream",
     "text": [
      "Found cached dataset tweet_eval (C:/Users/brusl/.cache/huggingface/datasets/tweet_eval/hate/1.1.0/12aee5282b8784f3e95459466db4cdf45c6bf49719c25cdb0743d71ed0410343)\n"
     ]
    },
    {
     "data": {
      "application/vnd.jupyter.widget-view+json": {
       "model_id": "d58587a79a8e4db882da276f5538a7cd",
       "version_major": 2,
       "version_minor": 0
      },
      "text/plain": [
       "  0%|          | 0/3 [00:00<?, ?it/s]"
      ]
     },
     "metadata": {},
     "output_type": "display_data"
    },
    {
     "name": "stderr",
     "output_type": "stream",
     "text": [
      "Found cached dataset tweet_eval (C:/Users/brusl/.cache/huggingface/datasets/tweet_eval/offensive/1.1.0/12aee5282b8784f3e95459466db4cdf45c6bf49719c25cdb0743d71ed0410343)\n"
     ]
    },
    {
     "data": {
      "application/vnd.jupyter.widget-view+json": {
       "model_id": "184a01971e204df591d0a1dffb218339",
       "version_major": 2,
       "version_minor": 0
      },
      "text/plain": [
       "  0%|          | 0/3 [00:00<?, ?it/s]"
      ]
     },
     "metadata": {},
     "output_type": "display_data"
    }
   ],
   "source": [
    "dataset1 = load_dataset(\"tweet_eval\", \"emotion\")\n",
    "dataset2 = load_dataset(\"tweet_eval\", \"sentiment\")\n",
    "dataset3 = load_dataset(\"tweet_eval\", \"hate\")\n",
    "dataset4 = load_dataset(\"tweet_eval\", \"offensive\")"
   ]
  },
  {
   "attachments": {},
   "cell_type": "markdown",
   "metadata": {},
   "source": [
    "# Tweet Eval Dataset: Emotion Recognition"
   ]
  },
  {
   "cell_type": "code",
   "execution_count": 7,
   "metadata": {},
   "outputs": [],
   "source": [
    "train1 = pd.DataFrame(dataset1[\"train\"])\n",
    "test1 = pd.DataFrame(dataset1[\"test\"])\n",
    "validation1 = pd.DataFrame(dataset1[\"validation\"])"
   ]
  },
  {
   "cell_type": "code",
   "execution_count": 8,
   "metadata": {},
   "outputs": [],
   "source": [
    "train1.to_excel(\"C:/Users/brusl/Documents/1 Escuela/1 Universidad/SSocial/tesis/conjuntos/TweetEval/TweetEval_traducir/Train_emotion.xlsx\", index=False)\n",
    "test1.to_excel(\"C:/Users/brusl/Documents/1 Escuela/1 Universidad/SSocial/tesis/conjuntos/TweetEval/TweetEval_traducir/Test_emotion.xlsx\", index=False)\n",
    "validation1.to_excel(\"C:/Users/brusl/Documents/1 Escuela/1 Universidad/SSocial/tesis/conjuntos/TweetEval/TweetEval_traducir/Validation_emotion.xlsx\", index=False)"
   ]
  },
  {
   "attachments": {},
   "cell_type": "markdown",
   "metadata": {},
   "source": [
    "# Tweet Eval Dataset: Sentiment Analisis"
   ]
  },
  {
   "cell_type": "code",
   "execution_count": 9,
   "metadata": {},
   "outputs": [],
   "source": [
    "train2 = pd.DataFrame(dataset2[\"train\"])\n",
    "test2 = pd.DataFrame(dataset2[\"test\"])\n",
    "validation2 = pd.DataFrame(dataset2[\"validation\"])"
   ]
  },
  {
   "cell_type": "code",
   "execution_count": 10,
   "metadata": {},
   "outputs": [],
   "source": [
    "train2.to_excel(\"C:/Users/brusl/Documents/1 Escuela/1 Universidad/SSocial/tesis/conjuntos/TweetEval/TweetEval_traducir/Train_sentiment.xlsx\", index=False)\n",
    "test2.to_excel(\"C:/Users/brusl/Documents/1 Escuela/1 Universidad/SSocial/tesis/conjuntos/TweetEval/TweetEval_traducir/Test_sentiment.xlsx\", index=False)\n",
    "validation2.to_excel(\"C:/Users/brusl/Documents/1 Escuela/1 Universidad/SSocial/tesis/conjuntos/TweetEval/TweetEval_traducir/Validation_sentiment.xlsx\", index=False)"
   ]
  },
  {
   "attachments": {},
   "cell_type": "markdown",
   "metadata": {},
   "source": [
    "# Tweet Eval Dataset: Hate"
   ]
  },
  {
   "cell_type": "code",
   "execution_count": 11,
   "metadata": {},
   "outputs": [],
   "source": [
    "train3 = pd.DataFrame(dataset3[\"train\"])\n",
    "test3 = pd.DataFrame(dataset3[\"test\"])\n",
    "validation3 = pd.DataFrame(dataset3[\"validation\"])"
   ]
  },
  {
   "cell_type": "code",
   "execution_count": 12,
   "metadata": {},
   "outputs": [],
   "source": [
    "train3.to_excel(\"C:/Users/brusl/Documents/1 Escuela/1 Universidad/SSocial/tesis/conjuntos/TweetEval/TweetEval_traducir/Train_hate.xlsx\", index=False)\n",
    "test3.to_excel(\"C:/Users/brusl/Documents/1 Escuela/1 Universidad/SSocial/tesis/conjuntos/TweetEval/TweetEval_traducir/Test_hate.xlsx\", index=False)\n",
    "validation3.to_excel(\"C:/Users/brusl/Documents/1 Escuela/1 Universidad/SSocial/tesis/conjuntos/TweetEval/TweetEval_traducir/Validation_hate.xlsx\", index=False)"
   ]
  },
  {
   "attachments": {},
   "cell_type": "markdown",
   "metadata": {},
   "source": [
    "# Tweet Eval Dataset: Offensive"
   ]
  },
  {
   "cell_type": "code",
   "execution_count": 13,
   "metadata": {},
   "outputs": [],
   "source": [
    "train4 = pd.DataFrame(dataset4[\"train\"])\n",
    "test4 = pd.DataFrame(dataset4[\"test\"])\n",
    "validation4 = pd.DataFrame(dataset4[\"validation\"])"
   ]
  },
  {
   "cell_type": "code",
   "execution_count": 14,
   "metadata": {},
   "outputs": [],
   "source": [
    "train4.to_excel(\"C:/Users/brusl/Documents/1 Escuela/1 Universidad/SSocial/tesis/conjuntos/TweetEval/TweetEval_traducir/Train_offensive.xlsx\", index=False)\n",
    "test4.to_excel(\"C:/Users/brusl/Documents/1 Escuela/1 Universidad/SSocial/tesis/conjuntos/TweetEval/TweetEval_traducir/Test_offensive.xlsx\", index=False)\n",
    "validation4.to_excel(\"C:/Users/brusl/Documents/1 Escuela/1 Universidad/SSocial/tesis/conjuntos/TweetEval/TweetEval_traducir/Validation_offensive.xlsx\", index=False)"
   ]
  },
  {
   "attachments": {},
   "cell_type": "markdown",
   "metadata": {},
   "source": [
    "# Twitter Sentiment Analisis Training Corpus"
   ]
  },
  {
   "cell_type": "code",
   "execution_count": 2,
   "metadata": {},
   "outputs": [],
   "source": [
    "dataset5 = pd.read_csv(\"C:/Users/brusl/Documents/1 Escuela/1 Universidad/SSocial/tesis/conjuntos/TSATCC/training.1600000.processed.noemoticon.csv\", encoding='utf-8')"
   ]
  },
  {
   "cell_type": "code",
   "execution_count": 3,
   "metadata": {},
   "outputs": [],
   "source": [
    "#print the column names\n",
    "#drop the columns that are not required for the neural network, keeping only the label and the tweet, but we don't have a label, so we will use the number of the column to drop it\n",
    "#we won't drop 0 and 5 column, we will drop the rest\n",
    "dataset5.drop(dataset5.columns[[1,2,3,4]], axis=1, inplace=True)"
   ]
  },
  {
   "cell_type": "code",
   "execution_count": 4,
   "metadata": {},
   "outputs": [
    {
     "name": "stderr",
     "output_type": "stream",
     "text": [
      "C:\\Users\\brusl\\AppData\\Local\\Temp\\ipykernel_21200\\1587032350.py:6: FutureWarning: The default value of regex will change from True to False in a future version.\n",
      "  dataset5['tweet'] = dataset5['tweet'].str.replace('http\\S+|www.\\S+', '', case=False)\n"
     ]
    }
   ],
   "source": [
    "dataset5\n",
    "#rename the columns\n",
    "dataset5.columns = ['label', 'tweet']\n",
    "dataset5\n",
    "# lets remove the links from the tweets\n",
    "dataset5['tweet'] = dataset5['tweet'].str.replace('http\\S+|www.\\S+', '', case=False)"
   ]
  },
  {
   "cell_type": "code",
   "execution_count": 5,
   "metadata": {},
   "outputs": [
    {
     "name": "stderr",
     "output_type": "stream",
     "text": [
      "C:\\Users\\brusl\\AppData\\Local\\Temp\\ipykernel_21200\\2991942178.py:3: FutureWarning: The default value of regex will change from True to False in a future version.\n",
      "  dataset5['tweet'] = dataset5['tweet'].str.replace('@\\S+', '@USER', case=False)\n"
     ]
    }
   ],
   "source": [
    "dataset5\n",
    "# lets replace the usernames from the tweets with the word USER\n",
    "dataset5['tweet'] = dataset5['tweet'].str.replace('@\\S+', '@USER', case=False)"
   ]
  },
  {
   "cell_type": "code",
   "execution_count": 6,
   "metadata": {},
   "outputs": [],
   "source": [
    "#lets replace the lebel 4 with 1 positive and 0 negative\n",
    "dataset5['label'] = dataset5['label'].replace(4, 1)\n",
    "dataset5['label'].value_counts()\n",
    "#lets create a training, testing and validation set with 70%, 20% and 10% of the data, and sample it randomly\n",
    "train5 = dataset5.sample(frac=0.7, random_state=42)\n",
    "test5 = dataset5.drop(train5.index)\n",
    "test5 = test5.sample(frac=0.2857142857142857, random_state=42)\n",
    "validation5 = dataset5.drop(train5.index)\n",
    "validation5 = validation5.drop(test5.index)"
   ]
  },
  {
   "cell_type": "code",
   "execution_count": 7,
   "metadata": {},
   "outputs": [
    {
     "name": "stdout",
     "output_type": "stream",
     "text": [
      "342857 137143 1119999\n"
     ]
    }
   ],
   "source": [
    "test5, validation5 = validation5, test5\n",
    "print(len(test5.index),len(validation5.index),len(train5.index))"
   ]
  },
  {
   "cell_type": "code",
   "execution_count": 8,
   "metadata": {},
   "outputs": [
    {
     "data": {
      "text/html": [
       "<div>\n",
       "<style scoped>\n",
       "    .dataframe tbody tr th:only-of-type {\n",
       "        vertical-align: middle;\n",
       "    }\n",
       "\n",
       "    .dataframe tbody tr th {\n",
       "        vertical-align: top;\n",
       "    }\n",
       "\n",
       "    .dataframe thead th {\n",
       "        text-align: right;\n",
       "    }\n",
       "</style>\n",
       "<table border=\"1\" class=\"dataframe\">\n",
       "  <thead>\n",
       "    <tr style=\"text-align: right;\">\n",
       "      <th></th>\n",
       "      <th>label</th>\n",
       "      <th>tweet</th>\n",
       "    </tr>\n",
       "  </thead>\n",
       "  <tbody>\n",
       "    <tr>\n",
       "      <th>541200</th>\n",
       "      <td>0</td>\n",
       "      <td>@USER My poor little dumpling  In Holmdel vids...</td>\n",
       "    </tr>\n",
       "    <tr>\n",
       "      <th>750</th>\n",
       "      <td>0</td>\n",
       "      <td>I'm off too bed. I gotta wake up hella early t...</td>\n",
       "    </tr>\n",
       "    <tr>\n",
       "      <th>766711</th>\n",
       "      <td>0</td>\n",
       "      <td>I havent been able to listen to it yet  My spe...</td>\n",
       "    </tr>\n",
       "    <tr>\n",
       "      <th>285055</th>\n",
       "      <td>0</td>\n",
       "      <td>now remembers why solving a relatively big equ...</td>\n",
       "    </tr>\n",
       "    <tr>\n",
       "      <th>705995</th>\n",
       "      <td>0</td>\n",
       "      <td>Ate too much, feel sick</td>\n",
       "    </tr>\n",
       "    <tr>\n",
       "      <th>...</th>\n",
       "      <td>...</td>\n",
       "      <td>...</td>\n",
       "    </tr>\n",
       "    <tr>\n",
       "      <th>285300</th>\n",
       "      <td>0</td>\n",
       "      <td>Today I saw a lot of people that I missed ... ...</td>\n",
       "    </tr>\n",
       "    <tr>\n",
       "      <th>1007912</th>\n",
       "      <td>1</td>\n",
       "      <td>- I like it</td>\n",
       "    </tr>\n",
       "    <tr>\n",
       "      <th>826125</th>\n",
       "      <td>1</td>\n",
       "      <td>ploughing through assignments but looking fwd ...</td>\n",
       "    </tr>\n",
       "    <tr>\n",
       "      <th>1199656</th>\n",
       "      <td>1</td>\n",
       "      <td>@USER i cant wait to see joseph on his birthday</td>\n",
       "    </tr>\n",
       "    <tr>\n",
       "      <th>1314765</th>\n",
       "      <td>1</td>\n",
       "      <td>@USER  Pretty fantastic places.Time flie a lot...</td>\n",
       "    </tr>\n",
       "  </tbody>\n",
       "</table>\n",
       "<p>1119999 rows × 2 columns</p>\n",
       "</div>"
      ],
      "text/plain": [
       "         label                                              tweet\n",
       "541200       0  @USER My poor little dumpling  In Holmdel vids...\n",
       "750          0  I'm off too bed. I gotta wake up hella early t...\n",
       "766711       0  I havent been able to listen to it yet  My spe...\n",
       "285055       0  now remembers why solving a relatively big equ...\n",
       "705995       0                           Ate too much, feel sick \n",
       "...        ...                                                ...\n",
       "285300       0  Today I saw a lot of people that I missed ... ...\n",
       "1007912      1                                       - I like it \n",
       "826125       1  ploughing through assignments but looking fwd ...\n",
       "1199656      1   @USER i cant wait to see joseph on his birthday \n",
       "1314765      1  @USER  Pretty fantastic places.Time flie a lot...\n",
       "\n",
       "[1119999 rows x 2 columns]"
      ]
     },
     "execution_count": 8,
     "metadata": {},
     "output_type": "execute_result"
    }
   ],
   "source": [
    "train5"
   ]
  },
  {
   "cell_type": "code",
   "execution_count": 9,
   "metadata": {},
   "outputs": [
    {
     "data": {
      "text/html": [
       "<div>\n",
       "<style scoped>\n",
       "    .dataframe tbody tr th:only-of-type {\n",
       "        vertical-align: middle;\n",
       "    }\n",
       "\n",
       "    .dataframe tbody tr th {\n",
       "        vertical-align: top;\n",
       "    }\n",
       "\n",
       "    .dataframe thead th {\n",
       "        text-align: right;\n",
       "    }\n",
       "</style>\n",
       "<table border=\"1\" class=\"dataframe\">\n",
       "  <thead>\n",
       "    <tr style=\"text-align: right;\">\n",
       "      <th></th>\n",
       "      <th>label</th>\n",
       "      <th>tweet</th>\n",
       "    </tr>\n",
       "  </thead>\n",
       "  <tbody>\n",
       "    <tr>\n",
       "      <th>4</th>\n",
       "      <td>0</td>\n",
       "      <td>@USER not the whole crew</td>\n",
       "    </tr>\n",
       "    <tr>\n",
       "      <th>8</th>\n",
       "      <td>0</td>\n",
       "      <td>@USER que me muera ?</td>\n",
       "    </tr>\n",
       "    <tr>\n",
       "      <th>16</th>\n",
       "      <td>0</td>\n",
       "      <td>about to file taxes</td>\n",
       "    </tr>\n",
       "    <tr>\n",
       "      <th>21</th>\n",
       "      <td>0</td>\n",
       "      <td>@USER I baked you a cake but I ated it</td>\n",
       "    </tr>\n",
       "    <tr>\n",
       "      <th>22</th>\n",
       "      <td>0</td>\n",
       "      <td>this week is not going as i had hoped</td>\n",
       "    </tr>\n",
       "    <tr>\n",
       "      <th>...</th>\n",
       "      <td>...</td>\n",
       "      <td>...</td>\n",
       "    </tr>\n",
       "    <tr>\n",
       "      <th>1599951</th>\n",
       "      <td>1</td>\n",
       "      <td>#Traveltuesday @USER Because their tweets are ...</td>\n",
       "    </tr>\n",
       "    <tr>\n",
       "      <th>1599956</th>\n",
       "      <td>1</td>\n",
       "      <td>@USER You just HAD to throw that in. Tell her ...</td>\n",
       "    </tr>\n",
       "    <tr>\n",
       "      <th>1599973</th>\n",
       "      <td>1</td>\n",
       "      <td>@USER ahaha nooo you were just away from every...</td>\n",
       "    </tr>\n",
       "    <tr>\n",
       "      <th>1599977</th>\n",
       "      <td>1</td>\n",
       "      <td>@USER i second that</td>\n",
       "    </tr>\n",
       "    <tr>\n",
       "      <th>1599980</th>\n",
       "      <td>1</td>\n",
       "      <td>Another Commenting Contest! [;: Yay!!!</td>\n",
       "    </tr>\n",
       "  </tbody>\n",
       "</table>\n",
       "<p>342857 rows × 2 columns</p>\n",
       "</div>"
      ],
      "text/plain": [
       "         label                                              tweet\n",
       "4            0                          @USER not the whole crew \n",
       "8            0                              @USER que me muera ? \n",
       "16           0                               about to file taxes \n",
       "21           0            @USER I baked you a cake but I ated it \n",
       "22           0             this week is not going as i had hoped \n",
       "...        ...                                                ...\n",
       "1599951      1  #Traveltuesday @USER Because their tweets are ...\n",
       "1599956      1  @USER You just HAD to throw that in. Tell her ...\n",
       "1599973      1  @USER ahaha nooo you were just away from every...\n",
       "1599977      1                               @USER i second that \n",
       "1599980      1           Another Commenting Contest! [;: Yay!!!  \n",
       "\n",
       "[342857 rows x 2 columns]"
      ]
     },
     "execution_count": 9,
     "metadata": {},
     "output_type": "execute_result"
    }
   ],
   "source": [
    "test5"
   ]
  },
  {
   "cell_type": "code",
   "execution_count": 10,
   "metadata": {},
   "outputs": [
    {
     "data": {
      "text/html": [
       "<div>\n",
       "<style scoped>\n",
       "    .dataframe tbody tr th:only-of-type {\n",
       "        vertical-align: middle;\n",
       "    }\n",
       "\n",
       "    .dataframe tbody tr th {\n",
       "        vertical-align: top;\n",
       "    }\n",
       "\n",
       "    .dataframe thead th {\n",
       "        text-align: right;\n",
       "    }\n",
       "</style>\n",
       "<table border=\"1\" class=\"dataframe\">\n",
       "  <thead>\n",
       "    <tr style=\"text-align: right;\">\n",
       "      <th></th>\n",
       "      <th>label</th>\n",
       "      <th>tweet</th>\n",
       "    </tr>\n",
       "  </thead>\n",
       "  <tbody>\n",
       "    <tr>\n",
       "      <th>1041631</th>\n",
       "      <td>1</td>\n",
       "      <td>@USER cooL iL be waiting for it</td>\n",
       "    </tr>\n",
       "    <tr>\n",
       "      <th>22760</th>\n",
       "      <td>0</td>\n",
       "      <td>wishes she was at give it a name today, THE BL...</td>\n",
       "    </tr>\n",
       "    <tr>\n",
       "      <th>1204584</th>\n",
       "      <td>1</td>\n",
       "      <td>Rofl i love how there are twitter updates at t...</td>\n",
       "    </tr>\n",
       "    <tr>\n",
       "      <th>18457</th>\n",
       "      <td>0</td>\n",
       "      <td>@USER - Sorry your day ended up sucking. Have ...</td>\n",
       "    </tr>\n",
       "    <tr>\n",
       "      <th>553629</th>\n",
       "      <td>0</td>\n",
       "      <td>Argh! TweetDeck crashed 5 times within 10 mins...</td>\n",
       "    </tr>\n",
       "    <tr>\n",
       "      <th>...</th>\n",
       "      <td>...</td>\n",
       "      <td>...</td>\n",
       "    </tr>\n",
       "    <tr>\n",
       "      <th>988407</th>\n",
       "      <td>1</td>\n",
       "      <td>We are inclined to believe those whom we do no...</td>\n",
       "    </tr>\n",
       "    <tr>\n",
       "      <th>1353079</th>\n",
       "      <td>1</td>\n",
       "      <td>And my switchblade is going to love u</td>\n",
       "    </tr>\n",
       "    <tr>\n",
       "      <th>207988</th>\n",
       "      <td>0</td>\n",
       "      <td>@USER Millionnaire with Bashy, Big Tune. @USER...</td>\n",
       "    </tr>\n",
       "    <tr>\n",
       "      <th>1343451</th>\n",
       "      <td>1</td>\n",
       "      <td>@USER Oh good! Sorry you didn't win the tix bu...</td>\n",
       "    </tr>\n",
       "    <tr>\n",
       "      <th>1013534</th>\n",
       "      <td>1</td>\n",
       "      <td>Mmm you're going to pay for that and tbh im go...</td>\n",
       "    </tr>\n",
       "  </tbody>\n",
       "</table>\n",
       "<p>137143 rows × 2 columns</p>\n",
       "</div>"
      ],
      "text/plain": [
       "         label                                              tweet\n",
       "1041631      1                  @USER cooL iL be waiting for it  \n",
       "22760        0  wishes she was at give it a name today, THE BL...\n",
       "1204584      1  Rofl i love how there are twitter updates at t...\n",
       "18457        0  @USER - Sorry your day ended up sucking. Have ...\n",
       "553629       0  Argh! TweetDeck crashed 5 times within 10 mins...\n",
       "...        ...                                                ...\n",
       "988407       1  We are inclined to believe those whom we do no...\n",
       "1353079      1             And my switchblade is going to love u \n",
       "207988       0  @USER Millionnaire with Bashy, Big Tune. @USER...\n",
       "1343451      1  @USER Oh good! Sorry you didn't win the tix bu...\n",
       "1013534      1  Mmm you're going to pay for that and tbh im go...\n",
       "\n",
       "[137143 rows x 2 columns]"
      ]
     },
     "execution_count": 10,
     "metadata": {},
     "output_type": "execute_result"
    }
   ],
   "source": [
    "validation5"
   ]
  },
  {
   "cell_type": "code",
   "execution_count": 11,
   "metadata": {},
   "outputs": [
    {
     "data": {
      "text/plain": [
       "1599999"
      ]
     },
     "execution_count": 11,
     "metadata": {},
     "output_type": "execute_result"
    }
   ],
   "source": [
    "sum(len(x) for x in [train5, test5, validation5])"
   ]
  },
  {
   "cell_type": "code",
   "execution_count": 12,
   "metadata": {},
   "outputs": [],
   "source": [
    "import numpy as np\n",
    "def split_dataframe(df, num_ofchunks,tag,dir='TSATCC/',datasetn='TSATCC'): \n",
    "    chunks = np.array_split(df, num_ofchunks)\n",
    "    i=1\n",
    "    for chunk in chunks:\n",
    "        name =f\"C:/Users/brusl/Documents/1 Escuela/1 Universidad/SSocial/tesis/conjuntos/{dir}{tag}{i}_{datasetn}.xlsx\"\n",
    "        try:\n",
    "            chunk.to_excel(name, index=False)\n",
    "            print(f\"saved {name}\")\n",
    "        except:\n",
    "            print(f\"error to save {name}\")\n",
    "        i+=1"
   ]
  },
  {
   "cell_type": "code",
   "execution_count": 23,
   "metadata": {},
   "outputs": [
    {
     "name": "stdout",
     "output_type": "stream",
     "text": [
      "saved C:/Users/brusl/Documents/1 Escuela/1 Universidad/SSocial/tesis/conjuntos/TSATCC/train1_TSATCC.xlsx\n",
      "saved C:/Users/brusl/Documents/1 Escuela/1 Universidad/SSocial/tesis/conjuntos/TSATCC/train2_TSATCC.xlsx\n",
      "saved C:/Users/brusl/Documents/1 Escuela/1 Universidad/SSocial/tesis/conjuntos/TSATCC/train3_TSATCC.xlsx\n",
      "saved C:/Users/brusl/Documents/1 Escuela/1 Universidad/SSocial/tesis/conjuntos/TSATCC/train4_TSATCC.xlsx\n",
      "saved C:/Users/brusl/Documents/1 Escuela/1 Universidad/SSocial/tesis/conjuntos/TSATCC/train5_TSATCC.xlsx\n",
      "saved C:/Users/brusl/Documents/1 Escuela/1 Universidad/SSocial/tesis/conjuntos/TSATCC/train6_TSATCC.xlsx\n",
      "saved C:/Users/brusl/Documents/1 Escuela/1 Universidad/SSocial/tesis/conjuntos/TSATCC/train7_TSATCC.xlsx\n",
      "saved C:/Users/brusl/Documents/1 Escuela/1 Universidad/SSocial/tesis/conjuntos/TSATCC/train8_TSATCC.xlsx\n",
      "saved C:/Users/brusl/Documents/1 Escuela/1 Universidad/SSocial/tesis/conjuntos/TSATCC/train9_TSATCC.xlsx\n",
      "saved C:/Users/brusl/Documents/1 Escuela/1 Universidad/SSocial/tesis/conjuntos/TSATCC/train10_TSATCC.xlsx\n",
      "saved C:/Users/brusl/Documents/1 Escuela/1 Universidad/SSocial/tesis/conjuntos/TSATCC/train11_TSATCC.xlsx\n",
      "saved C:/Users/brusl/Documents/1 Escuela/1 Universidad/SSocial/tesis/conjuntos/TSATCC/train12_TSATCC.xlsx\n",
      "saved C:/Users/brusl/Documents/1 Escuela/1 Universidad/SSocial/tesis/conjuntos/TSATCC/test1_TSATCC.xlsx\n",
      "saved C:/Users/brusl/Documents/1 Escuela/1 Universidad/SSocial/tesis/conjuntos/TSATCC/test2_TSATCC.xlsx\n",
      "saved C:/Users/brusl/Documents/1 Escuela/1 Universidad/SSocial/tesis/conjuntos/TSATCC/test3_TSATCC.xlsx\n",
      "saved C:/Users/brusl/Documents/1 Escuela/1 Universidad/SSocial/tesis/conjuntos/TSATCC/test4_TSATCC.xlsx\n",
      "saved C:/Users/brusl/Documents/1 Escuela/1 Universidad/SSocial/tesis/conjuntos/TSATCC/test5_TSATCC.xlsx\n",
      "saved C:/Users/brusl/Documents/1 Escuela/1 Universidad/SSocial/tesis/conjuntos/TSATCC/test6_TSATCC.xlsx\n"
     ]
    }
   ],
   "source": [
    "split_dataframe(train5, 12,\"train\")\n",
    "split_dataframe(test5, 6,\"test\")"
   ]
  },
  {
   "cell_type": "code",
   "execution_count": 13,
   "metadata": {},
   "outputs": [
    {
     "name": "stdout",
     "output_type": "stream",
     "text": [
      "saved C:/Users/brusl/Documents/1 Escuela/1 Universidad/SSocial/tesis/conjuntos/TSATCC/validation1_TSATCC.xlsx\n",
      "saved C:/Users/brusl/Documents/1 Escuela/1 Universidad/SSocial/tesis/conjuntos/TSATCC/validation2_TSATCC.xlsx\n",
      "saved C:/Users/brusl/Documents/1 Escuela/1 Universidad/SSocial/tesis/conjuntos/TSATCC/validation3_TSATCC.xlsx\n"
     ]
    }
   ],
   "source": [
    "split_dataframe(validation5, 3,\"validation\")"
   ]
  },
  {
   "attachments": {},
   "cell_type": "markdown",
   "metadata": {},
   "source": [
    "# HappyDB Dataset"
   ]
  },
  {
   "cell_type": "code",
   "execution_count": 33,
   "metadata": {},
   "outputs": [],
   "source": [
    "dataset6 = pd.read_csv(\"C:/Users/brusl/Documents/1 Escuela/1 Universidad/SSocial/tesis/conjuntos/HappyDB/data/cleaned_hm.csv\", encoding='utf-8')"
   ]
  },
  {
   "cell_type": "code",
   "execution_count": 34,
   "metadata": {},
   "outputs": [
    {
     "data": {
      "text/html": [
       "<div>\n",
       "<style scoped>\n",
       "    .dataframe tbody tr th:only-of-type {\n",
       "        vertical-align: middle;\n",
       "    }\n",
       "\n",
       "    .dataframe tbody tr th {\n",
       "        vertical-align: top;\n",
       "    }\n",
       "\n",
       "    .dataframe thead th {\n",
       "        text-align: right;\n",
       "    }\n",
       "</style>\n",
       "<table border=\"1\" class=\"dataframe\">\n",
       "  <thead>\n",
       "    <tr style=\"text-align: right;\">\n",
       "      <th></th>\n",
       "      <th>hmid</th>\n",
       "      <th>wid</th>\n",
       "      <th>reflection_period</th>\n",
       "      <th>original_hm</th>\n",
       "      <th>cleaned_hm</th>\n",
       "      <th>modified</th>\n",
       "      <th>num_sentence</th>\n",
       "      <th>ground_truth_category</th>\n",
       "      <th>predicted_category</th>\n",
       "    </tr>\n",
       "  </thead>\n",
       "  <tbody>\n",
       "    <tr>\n",
       "      <th>0</th>\n",
       "      <td>27673</td>\n",
       "      <td>2053</td>\n",
       "      <td>24h</td>\n",
       "      <td>I went on a successful date with someone I fel...</td>\n",
       "      <td>I went on a successful date with someone I fel...</td>\n",
       "      <td>True</td>\n",
       "      <td>1</td>\n",
       "      <td>NaN</td>\n",
       "      <td>affection</td>\n",
       "    </tr>\n",
       "    <tr>\n",
       "      <th>1</th>\n",
       "      <td>27674</td>\n",
       "      <td>2</td>\n",
       "      <td>24h</td>\n",
       "      <td>I was happy when my son got 90% marks in his e...</td>\n",
       "      <td>I was happy when my son got 90% marks in his e...</td>\n",
       "      <td>True</td>\n",
       "      <td>1</td>\n",
       "      <td>NaN</td>\n",
       "      <td>affection</td>\n",
       "    </tr>\n",
       "    <tr>\n",
       "      <th>2</th>\n",
       "      <td>27675</td>\n",
       "      <td>1936</td>\n",
       "      <td>24h</td>\n",
       "      <td>I went to the gym this morning and did yoga.</td>\n",
       "      <td>I went to the gym this morning and did yoga.</td>\n",
       "      <td>True</td>\n",
       "      <td>1</td>\n",
       "      <td>NaN</td>\n",
       "      <td>exercise</td>\n",
       "    </tr>\n",
       "    <tr>\n",
       "      <th>3</th>\n",
       "      <td>27676</td>\n",
       "      <td>206</td>\n",
       "      <td>24h</td>\n",
       "      <td>We had a serious talk with some friends of our...</td>\n",
       "      <td>We had a serious talk with some friends of our...</td>\n",
       "      <td>True</td>\n",
       "      <td>2</td>\n",
       "      <td>bonding</td>\n",
       "      <td>bonding</td>\n",
       "    </tr>\n",
       "    <tr>\n",
       "      <th>4</th>\n",
       "      <td>27677</td>\n",
       "      <td>6227</td>\n",
       "      <td>24h</td>\n",
       "      <td>I went with grandchildren to butterfly display...</td>\n",
       "      <td>I went with grandchildren to butterfly display...</td>\n",
       "      <td>True</td>\n",
       "      <td>1</td>\n",
       "      <td>NaN</td>\n",
       "      <td>affection</td>\n",
       "    </tr>\n",
       "    <tr>\n",
       "      <th>...</th>\n",
       "      <td>...</td>\n",
       "      <td>...</td>\n",
       "      <td>...</td>\n",
       "      <td>...</td>\n",
       "      <td>...</td>\n",
       "      <td>...</td>\n",
       "      <td>...</td>\n",
       "      <td>...</td>\n",
       "      <td>...</td>\n",
       "    </tr>\n",
       "    <tr>\n",
       "      <th>100530</th>\n",
       "      <td>128762</td>\n",
       "      <td>112</td>\n",
       "      <td>24h</td>\n",
       "      <td>My husband announced he is getting a decent bo...</td>\n",
       "      <td>My husband announced he is getting a decent bo...</td>\n",
       "      <td>True</td>\n",
       "      <td>1</td>\n",
       "      <td>NaN</td>\n",
       "      <td>affection</td>\n",
       "    </tr>\n",
       "    <tr>\n",
       "      <th>100531</th>\n",
       "      <td>128763</td>\n",
       "      <td>714</td>\n",
       "      <td>24h</td>\n",
       "      <td>Had a can of Pepsi to drink.</td>\n",
       "      <td>Had a can of Pepsi to drink.</td>\n",
       "      <td>True</td>\n",
       "      <td>1</td>\n",
       "      <td>NaN</td>\n",
       "      <td>enjoy_the_moment</td>\n",
       "    </tr>\n",
       "    <tr>\n",
       "      <th>100532</th>\n",
       "      <td>128764</td>\n",
       "      <td>3934</td>\n",
       "      <td>24h</td>\n",
       "      <td>Cuddling with my girlfriend last night.</td>\n",
       "      <td>Cuddling with my girlfriend last night.</td>\n",
       "      <td>True</td>\n",
       "      <td>1</td>\n",
       "      <td>affection</td>\n",
       "      <td>affection</td>\n",
       "    </tr>\n",
       "    <tr>\n",
       "      <th>100533</th>\n",
       "      <td>128765</td>\n",
       "      <td>1629</td>\n",
       "      <td>24h</td>\n",
       "      <td>I had a great meeting yesterday at work with m...</td>\n",
       "      <td>I had a great meeting yesterday at work with m...</td>\n",
       "      <td>True</td>\n",
       "      <td>1</td>\n",
       "      <td>NaN</td>\n",
       "      <td>bonding</td>\n",
       "    </tr>\n",
       "    <tr>\n",
       "      <th>100534</th>\n",
       "      <td>128766</td>\n",
       "      <td>141</td>\n",
       "      <td>24h</td>\n",
       "      <td>I had a great workout last night.</td>\n",
       "      <td>I had a great workout last night.</td>\n",
       "      <td>True</td>\n",
       "      <td>1</td>\n",
       "      <td>NaN</td>\n",
       "      <td>exercise</td>\n",
       "    </tr>\n",
       "  </tbody>\n",
       "</table>\n",
       "<p>100535 rows × 9 columns</p>\n",
       "</div>"
      ],
      "text/plain": [
       "          hmid   wid reflection_period  \\\n",
       "0        27673  2053               24h   \n",
       "1        27674     2               24h   \n",
       "2        27675  1936               24h   \n",
       "3        27676   206               24h   \n",
       "4        27677  6227               24h   \n",
       "...        ...   ...               ...   \n",
       "100530  128762   112               24h   \n",
       "100531  128763   714               24h   \n",
       "100532  128764  3934               24h   \n",
       "100533  128765  1629               24h   \n",
       "100534  128766   141               24h   \n",
       "\n",
       "                                              original_hm  \\\n",
       "0       I went on a successful date with someone I fel...   \n",
       "1       I was happy when my son got 90% marks in his e...   \n",
       "2            I went to the gym this morning and did yoga.   \n",
       "3       We had a serious talk with some friends of our...   \n",
       "4       I went with grandchildren to butterfly display...   \n",
       "...                                                   ...   \n",
       "100530  My husband announced he is getting a decent bo...   \n",
       "100531                       Had a can of Pepsi to drink.   \n",
       "100532            Cuddling with my girlfriend last night.   \n",
       "100533  I had a great meeting yesterday at work with m...   \n",
       "100534                  I had a great workout last night.   \n",
       "\n",
       "                                               cleaned_hm  modified  \\\n",
       "0       I went on a successful date with someone I fel...      True   \n",
       "1       I was happy when my son got 90% marks in his e...      True   \n",
       "2            I went to the gym this morning and did yoga.      True   \n",
       "3       We had a serious talk with some friends of our...      True   \n",
       "4       I went with grandchildren to butterfly display...      True   \n",
       "...                                                   ...       ...   \n",
       "100530  My husband announced he is getting a decent bo...      True   \n",
       "100531                       Had a can of Pepsi to drink.      True   \n",
       "100532            Cuddling with my girlfriend last night.      True   \n",
       "100533  I had a great meeting yesterday at work with m...      True   \n",
       "100534                  I had a great workout last night.      True   \n",
       "\n",
       "        num_sentence ground_truth_category predicted_category  \n",
       "0                  1                   NaN          affection  \n",
       "1                  1                   NaN          affection  \n",
       "2                  1                   NaN           exercise  \n",
       "3                  2               bonding            bonding  \n",
       "4                  1                   NaN          affection  \n",
       "...              ...                   ...                ...  \n",
       "100530             1                   NaN          affection  \n",
       "100531             1                   NaN   enjoy_the_moment  \n",
       "100532             1             affection          affection  \n",
       "100533             1                   NaN            bonding  \n",
       "100534             1                   NaN           exercise  \n",
       "\n",
       "[100535 rows x 9 columns]"
      ]
     },
     "execution_count": 34,
     "metadata": {},
     "output_type": "execute_result"
    }
   ],
   "source": [
    "dataset6"
   ]
  },
  {
   "cell_type": "code",
   "execution_count": 35,
   "metadata": {},
   "outputs": [
    {
     "data": {
      "text/html": [
       "<div>\n",
       "<style scoped>\n",
       "    .dataframe tbody tr th:only-of-type {\n",
       "        vertical-align: middle;\n",
       "    }\n",
       "\n",
       "    .dataframe tbody tr th {\n",
       "        vertical-align: top;\n",
       "    }\n",
       "\n",
       "    .dataframe thead th {\n",
       "        text-align: right;\n",
       "    }\n",
       "</style>\n",
       "<table border=\"1\" class=\"dataframe\">\n",
       "  <thead>\n",
       "    <tr style=\"text-align: right;\">\n",
       "      <th></th>\n",
       "      <th>cleaned_hm</th>\n",
       "      <th>predicted_category</th>\n",
       "    </tr>\n",
       "  </thead>\n",
       "  <tbody>\n",
       "    <tr>\n",
       "      <th>0</th>\n",
       "      <td>I went on a successful date with someone I fel...</td>\n",
       "      <td>affection</td>\n",
       "    </tr>\n",
       "    <tr>\n",
       "      <th>1</th>\n",
       "      <td>I was happy when my son got 90% marks in his e...</td>\n",
       "      <td>affection</td>\n",
       "    </tr>\n",
       "    <tr>\n",
       "      <th>2</th>\n",
       "      <td>I went to the gym this morning and did yoga.</td>\n",
       "      <td>exercise</td>\n",
       "    </tr>\n",
       "    <tr>\n",
       "      <th>3</th>\n",
       "      <td>We had a serious talk with some friends of our...</td>\n",
       "      <td>bonding</td>\n",
       "    </tr>\n",
       "    <tr>\n",
       "      <th>4</th>\n",
       "      <td>I went with grandchildren to butterfly display...</td>\n",
       "      <td>affection</td>\n",
       "    </tr>\n",
       "    <tr>\n",
       "      <th>...</th>\n",
       "      <td>...</td>\n",
       "      <td>...</td>\n",
       "    </tr>\n",
       "    <tr>\n",
       "      <th>100530</th>\n",
       "      <td>My husband announced he is getting a decent bo...</td>\n",
       "      <td>affection</td>\n",
       "    </tr>\n",
       "    <tr>\n",
       "      <th>100531</th>\n",
       "      <td>Had a can of Pepsi to drink.</td>\n",
       "      <td>enjoy_the_moment</td>\n",
       "    </tr>\n",
       "    <tr>\n",
       "      <th>100532</th>\n",
       "      <td>Cuddling with my girlfriend last night.</td>\n",
       "      <td>affection</td>\n",
       "    </tr>\n",
       "    <tr>\n",
       "      <th>100533</th>\n",
       "      <td>I had a great meeting yesterday at work with m...</td>\n",
       "      <td>bonding</td>\n",
       "    </tr>\n",
       "    <tr>\n",
       "      <th>100534</th>\n",
       "      <td>I had a great workout last night.</td>\n",
       "      <td>exercise</td>\n",
       "    </tr>\n",
       "  </tbody>\n",
       "</table>\n",
       "<p>100535 rows × 2 columns</p>\n",
       "</div>"
      ],
      "text/plain": [
       "                                               cleaned_hm predicted_category\n",
       "0       I went on a successful date with someone I fel...          affection\n",
       "1       I was happy when my son got 90% marks in his e...          affection\n",
       "2            I went to the gym this morning and did yoga.           exercise\n",
       "3       We had a serious talk with some friends of our...            bonding\n",
       "4       I went with grandchildren to butterfly display...          affection\n",
       "...                                                   ...                ...\n",
       "100530  My husband announced he is getting a decent bo...          affection\n",
       "100531                       Had a can of Pepsi to drink.   enjoy_the_moment\n",
       "100532            Cuddling with my girlfriend last night.          affection\n",
       "100533  I had a great meeting yesterday at work with m...            bonding\n",
       "100534                  I had a great workout last night.           exercise\n",
       "\n",
       "[100535 rows x 2 columns]"
      ]
     },
     "execution_count": 35,
     "metadata": {},
     "output_type": "execute_result"
    }
   ],
   "source": [
    "dataset6=dataset6.drop(dataset6.columns[[0,1,2,3,5,6,7]], axis=1)\n",
    "dataset6"
   ]
  },
  {
   "cell_type": "code",
   "execution_count": 37,
   "metadata": {},
   "outputs": [
    {
     "data": {
      "text/html": [
       "<div>\n",
       "<style scoped>\n",
       "    .dataframe tbody tr th:only-of-type {\n",
       "        vertical-align: middle;\n",
       "    }\n",
       "\n",
       "    .dataframe tbody tr th {\n",
       "        vertical-align: top;\n",
       "    }\n",
       "\n",
       "    .dataframe thead th {\n",
       "        text-align: right;\n",
       "    }\n",
       "</style>\n",
       "<table border=\"1\" class=\"dataframe\">\n",
       "  <thead>\n",
       "    <tr style=\"text-align: right;\">\n",
       "      <th></th>\n",
       "      <th>Text</th>\n",
       "      <th>label</th>\n",
       "    </tr>\n",
       "  </thead>\n",
       "  <tbody>\n",
       "    <tr>\n",
       "      <th>0</th>\n",
       "      <td>I went on a successful date with someone I fel...</td>\n",
       "      <td>affection</td>\n",
       "    </tr>\n",
       "    <tr>\n",
       "      <th>1</th>\n",
       "      <td>I was happy when my son got 90% marks in his e...</td>\n",
       "      <td>affection</td>\n",
       "    </tr>\n",
       "    <tr>\n",
       "      <th>2</th>\n",
       "      <td>I went to the gym this morning and did yoga.</td>\n",
       "      <td>exercise</td>\n",
       "    </tr>\n",
       "    <tr>\n",
       "      <th>3</th>\n",
       "      <td>We had a serious talk with some friends of our...</td>\n",
       "      <td>bonding</td>\n",
       "    </tr>\n",
       "    <tr>\n",
       "      <th>4</th>\n",
       "      <td>I went with grandchildren to butterfly display...</td>\n",
       "      <td>affection</td>\n",
       "    </tr>\n",
       "    <tr>\n",
       "      <th>...</th>\n",
       "      <td>...</td>\n",
       "      <td>...</td>\n",
       "    </tr>\n",
       "    <tr>\n",
       "      <th>100530</th>\n",
       "      <td>My husband announced he is getting a decent bo...</td>\n",
       "      <td>affection</td>\n",
       "    </tr>\n",
       "    <tr>\n",
       "      <th>100531</th>\n",
       "      <td>Had a can of Pepsi to drink.</td>\n",
       "      <td>enjoy_the_moment</td>\n",
       "    </tr>\n",
       "    <tr>\n",
       "      <th>100532</th>\n",
       "      <td>Cuddling with my girlfriend last night.</td>\n",
       "      <td>affection</td>\n",
       "    </tr>\n",
       "    <tr>\n",
       "      <th>100533</th>\n",
       "      <td>I had a great meeting yesterday at work with m...</td>\n",
       "      <td>bonding</td>\n",
       "    </tr>\n",
       "    <tr>\n",
       "      <th>100534</th>\n",
       "      <td>I had a great workout last night.</td>\n",
       "      <td>exercise</td>\n",
       "    </tr>\n",
       "  </tbody>\n",
       "</table>\n",
       "<p>100535 rows × 2 columns</p>\n",
       "</div>"
      ],
      "text/plain": [
       "                                                     Text             label\n",
       "0       I went on a successful date with someone I fel...         affection\n",
       "1       I was happy when my son got 90% marks in his e...         affection\n",
       "2            I went to the gym this morning and did yoga.          exercise\n",
       "3       We had a serious talk with some friends of our...           bonding\n",
       "4       I went with grandchildren to butterfly display...         affection\n",
       "...                                                   ...               ...\n",
       "100530  My husband announced he is getting a decent bo...         affection\n",
       "100531                       Had a can of Pepsi to drink.  enjoy_the_moment\n",
       "100532            Cuddling with my girlfriend last night.         affection\n",
       "100533  I had a great meeting yesterday at work with m...           bonding\n",
       "100534                  I had a great workout last night.          exercise\n",
       "\n",
       "[100535 rows x 2 columns]"
      ]
     },
     "execution_count": 37,
     "metadata": {},
     "output_type": "execute_result"
    }
   ],
   "source": [
    "dataset6.columns = ['Text', 'label']\n",
    "dataset6"
   ]
  },
  {
   "cell_type": "code",
   "execution_count": 38,
   "metadata": {},
   "outputs": [
    {
     "data": {
      "text/plain": [
       "affection           34168\n",
       "achievement         33993\n",
       "enjoy_the_moment    11144\n",
       "bonding             10727\n",
       "leisure              7458\n",
       "nature               1843\n",
       "exercise             1202\n",
       "Name: label, dtype: int64"
      ]
     },
     "execution_count": 38,
     "metadata": {},
     "output_type": "execute_result"
    }
   ],
   "source": [
    "dataset6['label'].value_counts()"
   ]
  },
  {
   "cell_type": "code",
   "execution_count": 39,
   "metadata": {},
   "outputs": [],
   "source": [
    "dataset6['label'] = dataset6['label'].replace('affection', 1)\n",
    "dataset6['label'] = dataset6['label'].replace('achievement', 2)\n",
    "dataset6['label'] = dataset6['label'].replace('bonding', 3)\n",
    "dataset6['label'] = dataset6['label'].replace('enjoy_the_moment', 4)\n",
    "dataset6['label'] = dataset6['label'].replace('leisure', 5)\n",
    "dataset6['label'] = dataset6['label'].replace('nature', 6)\n",
    "dataset6['label'] = dataset6['label'].replace('exercise', 7)"
   ]
  },
  {
   "cell_type": "code",
   "execution_count": 41,
   "metadata": {},
   "outputs": [
    {
     "data": {
      "text/plain": [
       "1    34168\n",
       "2    33993\n",
       "4    11144\n",
       "3    10727\n",
       "5     7458\n",
       "6     1843\n",
       "7     1202\n",
       "Name: label, dtype: int64"
      ]
     },
     "execution_count": 41,
     "metadata": {},
     "output_type": "execute_result"
    }
   ],
   "source": [
    "dataset6['label'].value_counts()"
   ]
  },
  {
   "cell_type": "code",
   "execution_count": 48,
   "metadata": {},
   "outputs": [
    {
     "data": {
      "text/plain": [
       "100535"
      ]
     },
     "execution_count": 48,
     "metadata": {},
     "output_type": "execute_result"
    }
   ],
   "source": [
    "len(dataset6.index)"
   ]
  },
  {
   "cell_type": "code",
   "execution_count": 52,
   "metadata": {},
   "outputs": [
    {
     "name": "stdout",
     "output_type": "stream",
     "text": [
      "21113 9048 70374\n"
     ]
    }
   ],
   "source": [
    "#lets create a training, testing and validation set with 70%, 20% and 10% of the data, and sample it randomly\n",
    "train6 = dataset6.sample(frac=0.7, random_state=42)\n",
    "test6 = dataset6.drop(train6.index)\n",
    "test6 = test6.sample(frac=0.70, random_state=42)\n",
    "validation6 = dataset6.drop(train6.index)\n",
    "validation6 = validation6.drop(test6.index)\n",
    "print(len(test6.index),len(validation6.index),len(train6.index))"
   ]
  },
  {
   "cell_type": "code",
   "execution_count": 62,
   "metadata": {},
   "outputs": [
    {
     "data": {
      "text/html": [
       "<div>\n",
       "<style scoped>\n",
       "    .dataframe tbody tr th:only-of-type {\n",
       "        vertical-align: middle;\n",
       "    }\n",
       "\n",
       "    .dataframe tbody tr th {\n",
       "        vertical-align: top;\n",
       "    }\n",
       "\n",
       "    .dataframe thead th {\n",
       "        text-align: right;\n",
       "    }\n",
       "</style>\n",
       "<table border=\"1\" class=\"dataframe\">\n",
       "  <thead>\n",
       "    <tr style=\"text-align: right;\">\n",
       "      <th></th>\n",
       "      <th>Text</th>\n",
       "      <th>label</th>\n",
       "    </tr>\n",
       "  </thead>\n",
       "  <tbody>\n",
       "    <tr>\n",
       "      <th>10484</th>\n",
       "      <td>I enjoyed spending the day at a craft show wit...</td>\n",
       "      <td>1</td>\n",
       "    </tr>\n",
       "    <tr>\n",
       "      <th>40401</th>\n",
       "      <td>I had a good evaluation at work and received a...</td>\n",
       "      <td>2</td>\n",
       "    </tr>\n",
       "    <tr>\n",
       "      <th>28905</th>\n",
       "      <td>Seeing my mom in law</td>\n",
       "      <td>1</td>\n",
       "    </tr>\n",
       "    <tr>\n",
       "      <th>42741</th>\n",
       "      <td>My father in-law went back for a heaping plate...</td>\n",
       "      <td>1</td>\n",
       "    </tr>\n",
       "    <tr>\n",
       "      <th>68854</th>\n",
       "      <td>I had a self-realization moment that is bringi...</td>\n",
       "      <td>4</td>\n",
       "    </tr>\n",
       "    <tr>\n",
       "      <th>...</th>\n",
       "      <td>...</td>\n",
       "      <td>...</td>\n",
       "    </tr>\n",
       "    <tr>\n",
       "      <th>63137</th>\n",
       "      <td>My one purple tulip bloomed.</td>\n",
       "      <td>2</td>\n",
       "    </tr>\n",
       "    <tr>\n",
       "      <th>75474</th>\n",
       "      <td>Last week I was able to buy a whole bunch of c...</td>\n",
       "      <td>2</td>\n",
       "    </tr>\n",
       "    <tr>\n",
       "      <th>85651</th>\n",
       "      <td>Someone ordered really great pizza for our lunch.</td>\n",
       "      <td>4</td>\n",
       "    </tr>\n",
       "    <tr>\n",
       "      <th>74009</th>\n",
       "      <td>In the past 3mth I met my old school friend at...</td>\n",
       "      <td>3</td>\n",
       "    </tr>\n",
       "    <tr>\n",
       "      <th>44173</th>\n",
       "      <td>Dressing up to go to a dance with my girlfrien...</td>\n",
       "      <td>1</td>\n",
       "    </tr>\n",
       "  </tbody>\n",
       "</table>\n",
       "<p>70374 rows × 2 columns</p>\n",
       "</div>"
      ],
      "text/plain": [
       "                                                    Text  label\n",
       "10484  I enjoyed spending the day at a craft show wit...      1\n",
       "40401  I had a good evaluation at work and received a...      2\n",
       "28905                               Seeing my mom in law      1\n",
       "42741  My father in-law went back for a heaping plate...      1\n",
       "68854  I had a self-realization moment that is bringi...      4\n",
       "...                                                  ...    ...\n",
       "63137                       My one purple tulip bloomed.      2\n",
       "75474  Last week I was able to buy a whole bunch of c...      2\n",
       "85651  Someone ordered really great pizza for our lunch.      4\n",
       "74009  In the past 3mth I met my old school friend at...      3\n",
       "44173  Dressing up to go to a dance with my girlfrien...      1\n",
       "\n",
       "[70374 rows x 2 columns]"
      ]
     },
     "execution_count": 62,
     "metadata": {},
     "output_type": "execute_result"
    }
   ],
   "source": [
    "train6"
   ]
  },
  {
   "cell_type": "code",
   "execution_count": 61,
   "metadata": {},
   "outputs": [
    {
     "data": {
      "text/html": [
       "<div>\n",
       "<style scoped>\n",
       "    .dataframe tbody tr th:only-of-type {\n",
       "        vertical-align: middle;\n",
       "    }\n",
       "\n",
       "    .dataframe tbody tr th {\n",
       "        vertical-align: top;\n",
       "    }\n",
       "\n",
       "    .dataframe thead th {\n",
       "        text-align: right;\n",
       "    }\n",
       "</style>\n",
       "<table border=\"1\" class=\"dataframe\">\n",
       "  <thead>\n",
       "    <tr style=\"text-align: right;\">\n",
       "      <th></th>\n",
       "      <th>Text</th>\n",
       "      <th>label</th>\n",
       "    </tr>\n",
       "  </thead>\n",
       "  <tbody>\n",
       "    <tr>\n",
       "      <th>5</th>\n",
       "      <td>I meditated last night.</td>\n",
       "      <td>5</td>\n",
       "    </tr>\n",
       "    <tr>\n",
       "      <th>28</th>\n",
       "      <td>My son woke me up to a fantastic breakfast of ...</td>\n",
       "      <td>1</td>\n",
       "    </tr>\n",
       "    <tr>\n",
       "      <th>36</th>\n",
       "      <td>I went for a run in the neighborhood. I enjoye...</td>\n",
       "      <td>6</td>\n",
       "    </tr>\n",
       "    <tr>\n",
       "      <th>42</th>\n",
       "      <td>when i received flowers from my best friend</td>\n",
       "      <td>3</td>\n",
       "    </tr>\n",
       "    <tr>\n",
       "      <th>48</th>\n",
       "      <td>I remember yesterday as being totally differen...</td>\n",
       "      <td>6</td>\n",
       "    </tr>\n",
       "    <tr>\n",
       "      <th>...</th>\n",
       "      <td>...</td>\n",
       "      <td>...</td>\n",
       "    </tr>\n",
       "    <tr>\n",
       "      <th>100496</th>\n",
       "      <td>I got pre-approved for a mortgage loan this mo...</td>\n",
       "      <td>2</td>\n",
       "    </tr>\n",
       "    <tr>\n",
       "      <th>100511</th>\n",
       "      <td>Last night while attending my grandmother's wa...</td>\n",
       "      <td>3</td>\n",
       "    </tr>\n",
       "    <tr>\n",
       "      <th>100520</th>\n",
       "      <td>I had a little time to myself in the afternoon.</td>\n",
       "      <td>4</td>\n",
       "    </tr>\n",
       "    <tr>\n",
       "      <th>100525</th>\n",
       "      <td>I got to talk to an old friend and reminisce o...</td>\n",
       "      <td>3</td>\n",
       "    </tr>\n",
       "    <tr>\n",
       "      <th>100532</th>\n",
       "      <td>Cuddling with my girlfriend last night.</td>\n",
       "      <td>1</td>\n",
       "    </tr>\n",
       "  </tbody>\n",
       "</table>\n",
       "<p>9048 rows × 2 columns</p>\n",
       "</div>"
      ],
      "text/plain": [
       "                                                     Text  label\n",
       "5                                 I meditated last night.      5\n",
       "28      My son woke me up to a fantastic breakfast of ...      1\n",
       "36      I went for a run in the neighborhood. I enjoye...      6\n",
       "42            when i received flowers from my best friend      3\n",
       "48      I remember yesterday as being totally differen...      6\n",
       "...                                                   ...    ...\n",
       "100496  I got pre-approved for a mortgage loan this mo...      2\n",
       "100511  Last night while attending my grandmother's wa...      3\n",
       "100520    I had a little time to myself in the afternoon.      4\n",
       "100525  I got to talk to an old friend and reminisce o...      3\n",
       "100532            Cuddling with my girlfriend last night.      1\n",
       "\n",
       "[9048 rows x 2 columns]"
      ]
     },
     "execution_count": 61,
     "metadata": {},
     "output_type": "execute_result"
    }
   ],
   "source": [
    "validation6"
   ]
  },
  {
   "cell_type": "code",
   "execution_count": 60,
   "metadata": {},
   "outputs": [
    {
     "data": {
      "text/html": [
       "<div>\n",
       "<style scoped>\n",
       "    .dataframe tbody tr th:only-of-type {\n",
       "        vertical-align: middle;\n",
       "    }\n",
       "\n",
       "    .dataframe tbody tr th {\n",
       "        vertical-align: top;\n",
       "    }\n",
       "\n",
       "    .dataframe thead th {\n",
       "        text-align: right;\n",
       "    }\n",
       "</style>\n",
       "<table border=\"1\" class=\"dataframe\">\n",
       "  <thead>\n",
       "    <tr style=\"text-align: right;\">\n",
       "      <th></th>\n",
       "      <th>Text</th>\n",
       "      <th>label</th>\n",
       "    </tr>\n",
       "  </thead>\n",
       "  <tbody>\n",
       "    <tr>\n",
       "      <th>706</th>\n",
       "      <td>I did strength training for about 30 minutes.</td>\n",
       "      <td>2</td>\n",
       "    </tr>\n",
       "    <tr>\n",
       "      <th>83322</th>\n",
       "      <td>My granddaughter made the honor roll.  That pl...</td>\n",
       "      <td>2</td>\n",
       "    </tr>\n",
       "    <tr>\n",
       "      <th>59405</th>\n",
       "      <td>When my brother's daughter was studying she us...</td>\n",
       "      <td>1</td>\n",
       "    </tr>\n",
       "    <tr>\n",
       "      <th>41705</th>\n",
       "      <td>I felt joyful after speaking with my friend on...</td>\n",
       "      <td>3</td>\n",
       "    </tr>\n",
       "    <tr>\n",
       "      <th>28942</th>\n",
       "      <td>My wife graciously cleaned the house yesterday...</td>\n",
       "      <td>1</td>\n",
       "    </tr>\n",
       "    <tr>\n",
       "      <th>...</th>\n",
       "      <td>...</td>\n",
       "      <td>...</td>\n",
       "    </tr>\n",
       "    <tr>\n",
       "      <th>4835</th>\n",
       "      <td>My wife and I got over being upset with one an...</td>\n",
       "      <td>1</td>\n",
       "    </tr>\n",
       "    <tr>\n",
       "      <th>56396</th>\n",
       "      <td>I saw a cute kitty.</td>\n",
       "      <td>5</td>\n",
       "    </tr>\n",
       "    <tr>\n",
       "      <th>34844</th>\n",
       "      <td>I got accepted to grad school.</td>\n",
       "      <td>2</td>\n",
       "    </tr>\n",
       "    <tr>\n",
       "      <th>9012</th>\n",
       "      <td>i celebrate my parents wedding day yesterday</td>\n",
       "      <td>1</td>\n",
       "    </tr>\n",
       "    <tr>\n",
       "      <th>17633</th>\n",
       "      <td>I caught the earlier bus to work.</td>\n",
       "      <td>2</td>\n",
       "    </tr>\n",
       "  </tbody>\n",
       "</table>\n",
       "<p>21113 rows × 2 columns</p>\n",
       "</div>"
      ],
      "text/plain": [
       "                                                    Text  label\n",
       "706       I did strength training for about 30 minutes.       2\n",
       "83322  My granddaughter made the honor roll.  That pl...      2\n",
       "59405  When my brother's daughter was studying she us...      1\n",
       "41705  I felt joyful after speaking with my friend on...      3\n",
       "28942  My wife graciously cleaned the house yesterday...      1\n",
       "...                                                  ...    ...\n",
       "4835   My wife and I got over being upset with one an...      1\n",
       "56396                                I saw a cute kitty.      5\n",
       "34844                     I got accepted to grad school.      2\n",
       "9012        i celebrate my parents wedding day yesterday      1\n",
       "17633                  I caught the earlier bus to work.      2\n",
       "\n",
       "[21113 rows x 2 columns]"
      ]
     },
     "execution_count": 60,
     "metadata": {},
     "output_type": "execute_result"
    }
   ],
   "source": [
    "test6"
   ]
  },
  {
   "cell_type": "code",
   "execution_count": 53,
   "metadata": {},
   "outputs": [
    {
     "data": {
      "text/plain": [
       "100535"
      ]
     },
     "execution_count": 53,
     "metadata": {},
     "output_type": "execute_result"
    }
   ],
   "source": [
    "sum(len(x) for x in [train6, test6, validation6])"
   ]
  },
  {
   "cell_type": "code",
   "execution_count": 63,
   "metadata": {},
   "outputs": [
    {
     "name": "stdout",
     "output_type": "stream",
     "text": [
      "saved C:/Users/brusl/Documents/1 Escuela/1 Universidad/SSocial/tesis/conjuntos/HappyDB/dataset_HDB/train1_HappyDB.xlsx\n",
      "saved C:/Users/brusl/Documents/1 Escuela/1 Universidad/SSocial/tesis/conjuntos/HappyDB/dataset_HDB/train2_HappyDB.xlsx\n"
     ]
    }
   ],
   "source": [
    "#lets save the dataframes in excel files\n",
    "split_dataframe(train6, 2,\"train\",'HappyDB/dataset_HDB/',\"HappyDB\")\n",
    "test6.to_excel(\"C:/Users/brusl/Documents/1 Escuela/1 Universidad/SSocial/tesis/conjuntos/HappyDB/dataset_HDB/test_happyDB.xlsx\", index=False)\n",
    "validation6.to_excel(\"C:/Users/brusl/Documents/1 Escuela/1 Universidad/SSocial/tesis/conjuntos/HappyDB/dataset_HDB/validation_happyDB.xlsx\", index=False)"
   ]
  }
 ],
 "metadata": {
  "kernelspec": {
   "display_name": "base",
   "language": "python",
   "name": "python3"
  },
  "language_info": {
   "codemirror_mode": {
    "name": "ipython",
    "version": 3
   },
   "file_extension": ".py",
   "mimetype": "text/x-python",
   "name": "python",
   "nbconvert_exporter": "python",
   "pygments_lexer": "ipython3",
   "version": "3.9.13"
  },
  "orig_nbformat": 4
 },
 "nbformat": 4,
 "nbformat_minor": 2
}
